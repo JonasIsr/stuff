{
 "cells": [
  {
   "cell_type": "markdown",
   "metadata": {},
   "source": [
    "# Scalable ML: Algorithms for Ridge Regression (100 P)\n",
    "\n",
    "In this programming exercise, we will experiment with various algorithms for solving a regularized least square regression problem (ridge regression), and analyze the speed of convergence. Ridge regression is a supervised problem that receives a dataset $x_1,\\dots,x_N \\in \\mathbb{R}^d$ and corresponding labels $t_1,\\dots,t_N \\in \\mathbb{R}$, and finds the weight parameter $w \\in \\mathbb{R}^d$ that optimizes:\n",
    "$$\n",
    "\\min_w J(w) \\qquad \\text{where} \\qquad J(w) = \\sum_{i=1}^N (x_i^\\top w - t_i)^2 + \\lambda \\|w\\|^2\n",
    "$$\n",
    "The objective can also be expressed in vector form as:\n",
    "$$\n",
    "J(w) = \\|X^\\top w - t\\|^2 + \\lambda \\|w\\|^2\n",
    "$$\n",
    "where we have defined the matrix\n",
    "$$\n",
    "X = \\Big[x_1 \\Big| \\dots \\Big| x_N \\Big]\n",
    "$$\n",
    "of size $d \\times N$, and the vector\n",
    "$$\n",
    "\\qquad t = [t_1 , \\dots , t_N]\n",
    "$$\n",
    "of size $N$. Given a dataset $(X,t)$, and the ridge parameter $\\lambda$, the objective function at a given parameter value $w$ can be computed with the code"
   ]
  },
  {
   "cell_type": "code",
   "execution_count": 28,
   "metadata": {},
   "outputs": [],
   "source": [
    "import numpy\n",
    "\n",
    "def obj(X,T,w,l):\n",
    "    d,N = X.shape\n",
    "    return ((numpy.dot(X.T,w)-T)**2).sum() + l*(w**2).sum()"
   ]
  },
  {
   "cell_type": "markdown",
   "metadata": {},
   "source": [
    "where `l` denotes the parameter $\\lambda$. A first approach to optimize this objective is gradient descent. The derivative of this objective is given as\n",
    "\\begin{align*}\n",
    "\\nabla J(w)\n",
    "&= 2 \\sum_{i=1}^N x_i (x_i^\\top w - t_i) + 2 \\lambda w\\\\\n",
    "&= 2 X (X^\\top w - t) + 2 \\lambda w\\\\\n",
    "\\end{align*}\n",
    "A gradient descent optimization procedure can be written in pseudo-code as:\n",
    "\n",
    "    w = 0\n",
    "    while True:\n",
    "        w = w - gamma * dJ(w)\n",
    "\n",
    "Because the objective function is convex and differentiable, the gradient descent will (for sufficiently small learning rate) always converge to the true solution. The code for gradient descent is provided below:"
   ]
  },
  {
   "cell_type": "code",
   "execution_count": 29,
   "metadata": {},
   "outputs": [],
   "source": [
    "import time\n",
    "\n",
    "cpt = [0]+map(int,numpy.logspace(0,5,50))\n",
    "\n",
    "# ----------------------------------------------------\n",
    "# Gradient descent\n",
    "#  X:     input matrix\n",
    "#  T:     label vector\n",
    "#  l:     ridge parameter\n",
    "#  gamma: learning rate\n",
    "# ----------------------------------------------------\n",
    "\n",
    "def gd(X,T,l,gamma):\n",
    "\n",
    "    # Initialize the procedure\n",
    "    d,N = X.shape\n",
    "    start = time.clock()\n",
    "    wlist,tlist = [],[]\n",
    "    \n",
    "    # Initialize the parameter at some reasonable value\n",
    "    w = numpy.zeros(d)\n",
    "    \n",
    "    # Perform multiple steps of gradient descent\n",
    "    for it in range(100000):\n",
    "\n",
    "        if it in cpt:\n",
    "            wlist += [w]\n",
    "            tlist += [time.clock()-start]\n",
    "        \n",
    "        # Perform one step of gradient descent\n",
    "        E = numpy.dot(X.T,w)-T\n",
    "        w = w - gamma*(2.0*numpy.dot(X,E) + 2.0*l*w)\n",
    "    \n",
    "        # Stop training after 0.25 seconds elapsed\n",
    "        if tlist[-1]>0.25: break\n",
    "    \n",
    "    # Return a sequence of parameters and the corresponding time to reach them\n",
    "    return wlist,tlist"
   ]
  },
  {
   "cell_type": "markdown",
   "metadata": {},
   "source": [
    "In addition to the core gradient descent code, the code has been instrumented with various functionalities that will be useful for benchmarking against other implementations. The procedure returns a sequence of parameters `wlist`, and the list of associated computation times `tlist`.\n",
    "\n",
    "We will now implement three different optimization procedure. The first one is a simple variant of gradient descent, but where some quantities are precomputed and can be reused during training. The second procedure evaluates a closed-form solution of the problem. The last one, known as stochastic gradient descent, optimizes a fast stochastic approximation of the objective."
   ]
  },
  {
   "cell_type": "markdown",
   "metadata": {},
   "source": [
    "### 1.Gradient descent with pre-computations (25 P)\n",
    "\n",
    "When evaluating the gradient of the objective $J(\\theta)$, the order of matrix multiplications matters in terms of speed of computation. Also, if the gradient of the objective is rewritten from\n",
    "\\begin{align*}\n",
    "\\nabla J(w) &= 2 X (X^\\top w - t) + 2 \\lambda w\n",
    "\\end{align*}\n",
    "to\n",
    "\\begin{align*}\n",
    "\\nabla J(w) &= 2 \\underbrace{(X X^\\top)}_{S} w - 2 \\underbrace{X t}_{q} + 2 \\lambda w\n",
    "\\end{align*}\n",
    "i.e. we reverse the order of computations, part of the computation ($S$ and $q$) no longer depends on $w$ and can therefore be evaluated before the gradient descent start.\n",
    "\n",
    "**Task:**\n",
    "\n",
    "* **Create a method inspired from the method `gd` above, that implements the proposed pre-computations.**"
   ]
  },
  {
   "cell_type": "code",
   "execution_count": 30,
   "metadata": {},
   "outputs": [],
   "source": [
    "def gdprecomp(X,T,l,gamma):\n",
    "    \n",
    "    # Initialize the procedure\n",
    "    d,N = X.shape\n",
    "    start = time.clock()\n",
    "    wlist,tlist = [],[]\n",
    "    S = numpy.dot(X,X.T)\n",
    "    q = numpy.dot(X,T)\n",
    "    \n",
    "    # Initialize the parameter at some reasonable value\n",
    "    w = numpy.zeros(d)\n",
    "    \n",
    "    # Perform multiple steps of gradient descent\n",
    "    for it in range(100000):\n",
    "\n",
    "        if it in cpt:\n",
    "            wlist += [w]\n",
    "            tlist += [time.clock()-start]\n",
    "        \n",
    "        # Perform one step of gradient descent\n",
    "        w = w - gamma*(2.0*numpy.dot(S,w) - 2.0*q + 2.0*l*w)\n",
    "        \n",
    "        # Stop training after 0.25 seconds elapsed\n",
    "        if tlist[-1]>0.25: break\n",
    "            \n",
    "    return wlist,tlist"
   ]
  },
  {
   "cell_type": "markdown",
   "metadata": {},
   "source": [
    "### 2. Closed-form solution (25 P)\n",
    "\n",
    "A closed-form solution to the problem is obtained by posing directly $\\nabla J(w) = 0$ and solving the equation for $w$. This leads to the solution:\n",
    "\\begin{align*}\n",
    "w = (X X^\\top + \\lambda I)^{-1} X t\n",
    "\\end{align*}\n",
    "Because this solution requires a matrix inversion or solving a linear system, it can be computationally expensive. However, this solution is exact and can serve as a ground truth to evaluate the convergence of other training algorithms.\n",
    "\n",
    "**Task:**\n",
    "\n",
    "* **Create a method that performs this closed-form evaluation. Unlike other optimization methods, here, only a single parameter and time estimate should be returned.**"
   ]
  },
  {
   "cell_type": "code",
   "execution_count": 31,
   "metadata": {},
   "outputs": [],
   "source": [
    "def closedform(X,T,l):\n",
    "    d,N = X.shape\n",
    "    \n",
    "    start = time.clock()\n",
    "\n",
    "    S = numpy.dot(X,X.T)\n",
    "    q = numpy.dot(X,T)\n",
    "    I = numpy.identity(d)\n",
    "    w = numpy.dot(numpy.linalg.inv(S+l*I),q)\n",
    "    \n",
    "    t = time.clock() - start\n",
    "        \n",
    "    return w,t"
   ]
  },
  {
   "cell_type": "markdown",
   "metadata": {},
   "source": [
    "### 3. Stochastic gradient descent (25 P)\n",
    "\n",
    "The objective $J(\\theta)$ and its gradient can be long to compute due to the summation over a potentially large number of examples. An unbiased estimator of the true gradient is given by:\n",
    "\\begin{align*}\n",
    "\\hat \\nabla J(\\theta) = 2 N x_i (x_i^\\top w - t_i) + 2 \\lambda w \\qquad i \\sim \\text{random}(1,N).\n",
    "\\end{align*}\n",
    "The variable $i$ is a random integer between $1$ and $N$. The optimization procedure can therefore be written in pseudo-code as:\n",
    "\n",
    "    w = 0\n",
    "    for t in range(100000):\n",
    "        i ~ random(1,N)\n",
    "        w = w - gamma(t) * dJ(w,i)\n",
    "        \n",
    "As the gradient is subject to random noise, the learning rate $\\gamma$ must be chosen carefully to ensure convergence. The choice $\\gamma(t) = \\gamma_0 \\cdot (1+t)^{-0.5}$ makes training fast but also guarantees convergence when $t \\to \\infty$.\n",
    "\n",
    "**Task:**\n",
    "\n",
    "* **Create a method that implements stochastic gradient descent.**"
   ]
  },
  {
   "cell_type": "code",
   "execution_count": 32,
   "metadata": {},
   "outputs": [],
   "source": [
    "def sgd(X,T,l,gamma0):\n",
    "    \n",
    "    # Initialize the procedure\n",
    "    d,N = X.shape\n",
    "    start = time.clock()\n",
    "    wlist,tlist = [],[] \n",
    "    \n",
    "    # Initialize the parameter at some reasonable value\n",
    "    w = numpy.zeros(d)\n",
    "    \n",
    "    # Perform multiple steps of gradient descent\n",
    "    for t in range(100000):\n",
    "\n",
    "        if t in cpt:\n",
    "            wlist += [w]\n",
    "            tlist += [time.clock()-start]\n",
    "        \n",
    "        # Perform one step of gradient descent\n",
    "        g_t = gamma0*(1/numpy.sqrt(1+t))\n",
    "        i = numpy.random.randint(N)\n",
    "        x_i = X[:,i]\n",
    "        T_i = T[i]\n",
    "        e = numpy.dot(x_i.T,w) - T_i\n",
    "        w = w - g_t*(2.0*N*numpy.dot(x_i,e) + 2.0*l*w)\n",
    "        \n",
    "        # Stop training after 0.25 seconds elapsed\n",
    "        if tlist[-1]>0.25: break\n",
    "    \n",
    "    return wlist,tlist"
   ]
  },
  {
   "cell_type": "markdown",
   "metadata": {},
   "source": [
    "### 4. Analysis (25 P)\n",
    "\n",
    "The following code tests the behavior of the different optimization techniques for two different choices of dataset dimensions."
   ]
  },
  {
   "cell_type": "code",
   "execution_count": 33,
   "metadata": {},
   "outputs": [
    {
     "data": {
      "image/png": "[encoded data removed]",
      "text/plain": [
       "<matplotlib.figure.Figure at 0x10e78b590>"
      ]
     },
     "metadata": {},
     "output_type": "display_data"
    },
    {
     "data": {
      "image/png": "[encoded data removed]",
      "text/plain": [
       "<matplotlib.figure.Figure at 0x10e6fd690>"
      ]
     },
     "metadata": {},
     "output_type": "display_data"
    }
   ],
   "source": [
    "# ----------------------------------------------------\n",
    "# Benchmarking procedure\n",
    "#\n",
    "#  data:  arrays containing input and labels\n",
    "#  l:     ridge regression parameter\n",
    "#  title: title of the plot\n",
    "# ----------------------------------------------------\n",
    "\n",
    "import utils, matplotlib\n",
    "%matplotlib inline\n",
    "from matplotlib import pyplot as plt\n",
    "\n",
    "def benchmark(data,l,title):\n",
    "\n",
    "    X,T = data\n",
    "    \n",
    "    # Learning rate (chosen heurstically)\n",
    "    gamma = 0.001 / X.shape[1]**.5\n",
    "\n",
    "    # Use closed-form computation as optimum\n",
    "    wopt,t = closedform(X,T,l)\n",
    "    \n",
    "    # Apply various iterative procedures for optimization\n",
    "    ws1,ts1 = gd(X,T,l,gamma)\n",
    "    ws2,ts2 = gdprecomp(X,T,l,gamma)\n",
    "    ws3,ts3 = sgd(X,T,l,gamma)\n",
    "    \n",
    "    # Compare how different from the optimum we are\n",
    "    es1 = ([obj(X,T,w,l) - obj(X,T,wopt,l) for w in ws1])\n",
    "    es2 = ([obj(X,T,w,l) - obj(X,T,wopt,l) for w in ws2])\n",
    "    es3 = ([obj(X,T,w,l) - obj(X,T,wopt,l) for w in ws3])\n",
    "\n",
    "    # Plot the convergence curves of the different methods\n",
    "    plt.figure(figsize=(10,4))\n",
    "    plt.title(title)\n",
    "    plt.yscale('log')\n",
    "    plt.plot(ts1,es1,'o-',color='green',ms=2,label='GD')\n",
    "    plt.plot(ts2,es2,'o-',color='red',ms=2,label='GD-precomp')\n",
    "    plt.plot(ts3,es3,'o-',color='blue',ms=2,label='SGD')\n",
    "    plt.plot([t,t],[1e-9,1e9],'-',ls='dotted',color='black',label='closed-form')\n",
    "    plt.ylim([1e-9,1e9])\n",
    "    plt.xlim([0,0.4])\n",
    "    plt.xlabel('time [s]')\n",
    "    plt.ylabel('difference to optimum')\n",
    "    plt.legend().get_frame().set_facecolor('white')\n",
    "\n",
    "\n",
    "# Run the benchmark for two datasets with different dimensions\n",
    "\n",
    "benchmark(utils.getdata(5000,50),1,'N>>d')\n",
    "benchmark(utils.getdata(50,500),1,'N<d')"
   ]
  },
  {
   "cell_type": "markdown",
   "metadata": {},
   "source": [
    "**Why does SGD only outperform GD when $N \\gg d$ ?**\n",
    "\n",
    "[[YOUR ANSWER HERE]]"
   ]
  },
  {
   "cell_type": "markdown",
   "metadata": {},
   "source": [
    "**Why does the SGD error slightly increase before decreasing?**\n",
    "\n",
    "[[YOUR ANSWER HERE]]"
   ]
  },
  {
   "cell_type": "markdown",
   "metadata": {},
   "source": [
    "**Why is the closed form drastically slower to compute for $N < d$ than for $N \\gg d$?**\n",
    "\n",
    "[[YOUR ANSWER HERE]]"
   ]
  },
  {
   "cell_type": "markdown",
   "metadata": {},
   "source": [
    "**Why is GD-precomp systematically outperformed by other methods in the early stage of optimization?**\n",
    "\n",
    "[[YOUR ANSWER HERE]]"
   ]
  },
  {
   "cell_type": "markdown",
   "metadata": {},
   "source": [
    "**When $N < d$, why does GD-precomp converge slower than GD in the final stage, even though it potentially benefits from precomputations?**\n",
    "\n",
    "[[YOUR ANSWER HERE]]"
   ]
  }
 ],
 "metadata": {
  "kernelspec": {
   "display_name": "Python 2",
   "language": "python",
   "name": "python2"
  },
  "language_info": {
   "codemirror_mode": {
    "name": "ipython",
    "version": 2
   },
   "file_extension": ".py",
   "mimetype": "text/x-python",
   "name": "python",
   "nbconvert_exporter": "python",
   "pygments_lexer": "ipython2",
   "version": "2.7.14"
  }
 },
 "nbformat": 4,
 "nbformat_minor": 1
}
